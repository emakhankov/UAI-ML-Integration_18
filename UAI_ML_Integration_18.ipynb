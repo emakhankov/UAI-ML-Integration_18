{
  "nbformat": 4,
  "nbformat_minor": 0,
  "metadata": {
    "colab": {
      "name": "UAI_ML_Integration_18.ipynb",
      "provenance": [],
      "authorship_tag": "ABX9TyNyvhOZFOEBWV5IahQzTwYY",
      "include_colab_link": true
    },
    "kernelspec": {
      "name": "python3",
      "display_name": "Python 3"
    },
    "accelerator": "GPU"
  },
  "cells": [
    {
      "cell_type": "markdown",
      "metadata": {
        "id": "view-in-github",
        "colab_type": "text"
      },
      "source": [
        "<a href=\"https://colab.research.google.com/github/emakhankov/UAI-ML-Integration_18/blob/master/UAI_ML_Integration_18.ipynb\" target=\"_parent\"><img src=\"https://colab.research.google.com/assets/colab-badge.svg\" alt=\"Open In Colab\"/></a>"
      ]
    },
    {
      "cell_type": "code",
      "metadata": {
        "id": "-49wa2eK5yPA",
        "colab_type": "code",
        "colab": {
          "base_uri": "https://localhost:8080/",
          "height": 34
        },
        "outputId": "aed526c5-dee5-4180-96aa-8782a9101cb4"
      },
      "source": [
        "import tensorflow as tf\n",
        "from tensorflow import keras\n",
        "import numpy as np\n",
        "import matplotlib.pyplot as plt\n",
        "\n",
        "print(tf.__version__)"
      ],
      "execution_count": 55,
      "outputs": [
        {
          "output_type": "stream",
          "text": [
            "2.2.0\n"
          ],
          "name": "stdout"
        }
      ]
    },
    {
      "cell_type": "code",
      "metadata": {
        "id": "5ihQx8Mg6nUl",
        "colab_type": "code",
        "colab": {}
      },
      "source": [
        "mnist = keras.datasets.mnist\n",
        "\n",
        "(train_images, train_labels), (test_images, test_labels) = mnist.load_data()"
      ],
      "execution_count": 0,
      "outputs": []
    },
    {
      "cell_type": "code",
      "metadata": {
        "id": "ak9Va-Zj8oPh",
        "colab_type": "code",
        "colab": {
          "base_uri": "https://localhost:8080/",
          "height": 34
        },
        "outputId": "afb672d3-26b0-48bc-9a02-376977244228"
      },
      "source": [
        "train_images.shape"
      ],
      "execution_count": 57,
      "outputs": [
        {
          "output_type": "execute_result",
          "data": {
            "text/plain": [
              "(60000, 28, 28)"
            ]
          },
          "metadata": {
            "tags": []
          },
          "execution_count": 57
        }
      ]
    },
    {
      "cell_type": "code",
      "metadata": {
        "id": "6hL0H4U89kh5",
        "colab_type": "code",
        "colab": {}
      },
      "source": [
        ""
      ],
      "execution_count": 0,
      "outputs": []
    },
    {
      "cell_type": "code",
      "metadata": {
        "id": "8hUN1g1w9kt3",
        "colab_type": "code",
        "colab": {}
      },
      "source": [
        "img_rows, img_cols = 28, 28\n",
        "train_images = train_images.reshape(train_images.shape[0], img_rows, img_cols, 1)\n",
        "test_images = test_images.reshape(test_images.shape[0], img_rows, img_cols, 1)\n",
        "input_shape = (img_rows, img_cols, 1)\n"
      ],
      "execution_count": 0,
      "outputs": []
    },
    {
      "cell_type": "code",
      "metadata": {
        "id": "JIWJ7_BC6xP4",
        "colab_type": "code",
        "colab": {
          "base_uri": "https://localhost:8080/",
          "height": 265
        },
        "outputId": "3ca5bd2b-1385-4453-8c62-5410f16c1916"
      },
      "source": [
        "plt.figure()\n",
        "plt.imshow(train_images[0].reshape(img_rows, img_cols))\n",
        "plt.colorbar()\n",
        "plt.grid(False)\n",
        "plt.show()"
      ],
      "execution_count": 59,
      "outputs": [
        {
          "output_type": "display_data",
          "data": {
            "image/png": "[encoded data removed]",
            "text/plain": [
              "<Figure size 432x288 with 2 Axes>"
            ]
          },
          "metadata": {
            "tags": [],
            "needs_background": "light"
          }
        }
      ]
    },
    {
      "cell_type": "code",
      "metadata": {
        "id": "6nSAx3lBbSJC",
        "colab_type": "code",
        "colab": {
          "base_uri": "https://localhost:8080/",
          "height": 34
        },
        "outputId": "ad65c171-79d3-4ac3-8f50-3400382fcd93"
      },
      "source": [
        "print(train_labels[0])"
      ],
      "execution_count": 60,
      "outputs": [
        {
          "output_type": "stream",
          "text": [
            "5\n"
          ],
          "name": "stdout"
        }
      ]
    },
    {
      "cell_type": "code",
      "metadata": {
        "id": "0YWioE11bcRI",
        "colab_type": "code",
        "colab": {}
      },
      "source": [
        "y_train = keras.utils.to_categorical(train_labels, num_classes)\n",
        "y_test = keras.utils.to_categorical(test_labels, num_classes)"
      ],
      "execution_count": 0,
      "outputs": []
    },
    {
      "cell_type": "code",
      "metadata": {
        "id": "fHZ8EP8Vbdk-",
        "colab_type": "code",
        "colab": {
          "base_uri": "https://localhost:8080/",
          "height": 34
        },
        "outputId": "84d27a7f-3de4-4d08-fcf7-81603b7bcdb9"
      },
      "source": [
        "y_train[0]"
      ],
      "execution_count": 62,
      "outputs": [
        {
          "output_type": "execute_result",
          "data": {
            "text/plain": [
              "array([0., 0., 0., 0., 0., 1., 0., 0., 0., 0.], dtype=float32)"
            ]
          },
          "metadata": {
            "tags": []
          },
          "execution_count": 62
        }
      ]
    },
    {
      "cell_type": "code",
      "metadata": {
        "id": "4mScv_9c7AQB",
        "colab_type": "code",
        "colab": {
          "base_uri": "https://localhost:8080/",
          "height": 34
        },
        "outputId": "e634f49d-d71f-4433-c673-30d7ff42bf65"
      },
      "source": [
        "st_mean = np.mean(train_images)\n",
        "st_std = np.std(train_images)\n",
        "st_mean, st_std"
      ],
      "execution_count": 50,
      "outputs": [
        {
          "output_type": "execute_result",
          "data": {
            "text/plain": [
              "(33.318421449829934, 78.56748998339798)"
            ]
          },
          "metadata": {
            "tags": []
          },
          "execution_count": 50
        }
      ]
    },
    {
      "cell_type": "code",
      "metadata": {
        "id": "X6vlY_J-7TZj",
        "colab_type": "code",
        "colab": {}
      },
      "source": [
        ""
      ],
      "execution_count": 0,
      "outputs": []
    },
    {
      "cell_type": "code",
      "metadata": {
        "id": "yRH8y18y65qb",
        "colab_type": "code",
        "colab": {}
      },
      "source": [
        "train_images = (train_images - st_mean) / st_std\n",
        "test_images = (test_images - st_mean) / st_std"
      ],
      "execution_count": 0,
      "outputs": []
    },
    {
      "cell_type": "code",
      "metadata": {
        "id": "ziH0zfE57kE_",
        "colab_type": "code",
        "colab": {
          "base_uri": "https://localhost:8080/",
          "height": 34
        },
        "outputId": "70784f67-adc6-45b1-e0ce-29f2289ad735"
      },
      "source": [
        "np.mean(train_images), np.std(train_images) # Проверим должно быть 0 и 1"
      ],
      "execution_count": 52,
      "outputs": [
        {
          "output_type": "execute_result",
          "data": {
            "text/plain": [
              "(-3.064638490070051e-17, 0.9999999999999998)"
            ]
          },
          "metadata": {
            "tags": []
          },
          "execution_count": 52
        }
      ]
    },
    {
      "cell_type": "code",
      "metadata": {
        "id": "8sWZ4hN-8NkH",
        "colab_type": "code",
        "colab": {}
      },
      "source": [
        ""
      ],
      "execution_count": 0,
      "outputs": []
    },
    {
      "cell_type": "code",
      "metadata": {
        "id": "_y7g8IK88W9L",
        "colab_type": "code",
        "colab": {}
      },
      "source": [
        ""
      ],
      "execution_count": 0,
      "outputs": []
    },
    {
      "cell_type": "code",
      "metadata": {
        "id": "SXN-Henr8XBV",
        "colab_type": "code",
        "colab": {}
      },
      "source": [
        "batch_size = 128\n",
        "num_classes = 10\n",
        "epochs = 30\n"
      ],
      "execution_count": 0,
      "outputs": []
    },
    {
      "cell_type": "code",
      "metadata": {
        "id": "QNQhy75w8Nnt",
        "colab_type": "code",
        "colab": {
          "base_uri": "https://localhost:8080/",
          "height": 1000
        },
        "outputId": "9f1cf652-53c4-438b-c485-c9719643027c"
      },
      "source": [
        "\n",
        "\n",
        "model = keras.models.Sequential()\n",
        "model.add(keras.layers.Conv2D(64, padding='SAME', kernel_size=(3, 3),\n",
        "                 activation='relu',\n",
        "                 input_shape=input_shape))\n",
        "model.add(keras.layers.Conv2D(128, (3, 3), padding='SAME', activation='relu'))\n",
        "model.add(keras.layers.MaxPooling2D(pool_size=(2, 2)))\n",
        "model.add(keras.layers.Dropout(0.05))\n",
        "\n",
        "model.add(keras.layers.Conv2D(64, kernel_size=(3, 3), padding='SAME', activation='relu'))\n",
        "model.add(keras.layers.Conv2D(128, (3, 3), padding='SAME', activation='relu'))\n",
        "model.add(keras.layers.MaxPooling2D(pool_size=(2, 2)))\n",
        "model.add(keras.layers.Dropout(0.05))\n",
        "\n",
        "model.add(keras.layers.Conv2D(64, kernel_size=(3, 3), padding='SAME', activation='relu'))\n",
        "model.add(keras.layers.Conv2D(128, (3, 3), padding='SAME', activation='relu'))\n",
        "model.add(keras.layers.MaxPooling2D(pool_size=(2, 2)))\n",
        "model.add(keras.layers.Dropout(0.05))\n",
        "\n",
        "model.add(keras.layers.Flatten())\n",
        "model.add(keras.layers.Dense(576, activation='relu'))\n",
        "model.add(keras.layers.Dropout(0.1))\n",
        "model.add(keras.layers.Dense(num_classes, activation='softmax'))\n",
        "\n",
        "model.compile(loss=keras.losses.categorical_crossentropy,\n",
        "              optimizer=keras.optimizers.Adadelta(),\n",
        "              metrics=['accuracy'])\n",
        "\n",
        "model.fit(train_images, y_train,\n",
        "          batch_size=batch_size,\n",
        "          epochs=epochs,\n",
        "          verbose=1,\n",
        "          validation_data=(test_images, y_test))\n",
        "score = model.evaluate(test_images, y_test, verbose=0)\n",
        "print('Test loss:', score[0])\n",
        "print('Test accuracy:', score[1])"
      ],
      "execution_count": 64,
      "outputs": [
        {
          "output_type": "stream",
          "text": [
            "Epoch 1/30\n",
            "469/469 [==============================] - 23s 49ms/step - loss: 4.0810 - accuracy: 0.1452 - val_loss: 1.7626 - val_accuracy: 0.4220\n",
            "Epoch 2/30\n",
            "469/469 [==============================] - 23s 48ms/step - loss: 2.0299 - accuracy: 0.3352 - val_loss: 1.0974 - val_accuracy: 0.7222\n",
            "Epoch 3/30\n",
            "469/469 [==============================] - 22s 48ms/step - loss: 1.3769 - accuracy: 0.5389 - val_loss: 0.7152 - val_accuracy: 0.8235\n",
            "Epoch 4/30\n",
            "469/469 [==============================] - 23s 48ms/step - loss: 0.9996 - accuracy: 0.6699 - val_loss: 0.4950 - val_accuracy: 0.8738\n",
            "Epoch 5/30\n",
            "469/469 [==============================] - 23s 48ms/step - loss: 0.7629 - accuracy: 0.7487 - val_loss: 0.3726 - val_accuracy: 0.8973\n",
            "Epoch 6/30\n",
            "469/469 [==============================] - 23s 48ms/step - loss: 0.6119 - accuracy: 0.8000 - val_loss: 0.2982 - val_accuracy: 0.9147\n",
            "Epoch 7/30\n",
            "469/469 [==============================] - 23s 48ms/step - loss: 0.5086 - accuracy: 0.8345 - val_loss: 0.2503 - val_accuracy: 0.9267\n",
            "Epoch 8/30\n",
            "469/469 [==============================] - 23s 48ms/step - loss: 0.4345 - accuracy: 0.8593 - val_loss: 0.2182 - val_accuracy: 0.9350\n",
            "Epoch 9/30\n",
            "469/469 [==============================] - 23s 48ms/step - loss: 0.3812 - accuracy: 0.8781 - val_loss: 0.1919 - val_accuracy: 0.9447\n",
            "Epoch 10/30\n",
            "469/469 [==============================] - 23s 48ms/step - loss: 0.3438 - accuracy: 0.8907 - val_loss: 0.1745 - val_accuracy: 0.9489\n",
            "Epoch 11/30\n",
            "469/469 [==============================] - 23s 48ms/step - loss: 0.3111 - accuracy: 0.9002 - val_loss: 0.1600 - val_accuracy: 0.9515\n",
            "Epoch 12/30\n",
            "469/469 [==============================] - 23s 48ms/step - loss: 0.2868 - accuracy: 0.9101 - val_loss: 0.1494 - val_accuracy: 0.9543\n",
            "Epoch 13/30\n",
            "469/469 [==============================] - 23s 48ms/step - loss: 0.2621 - accuracy: 0.9173 - val_loss: 0.1398 - val_accuracy: 0.9581\n",
            "Epoch 14/30\n",
            "469/469 [==============================] - 23s 48ms/step - loss: 0.2488 - accuracy: 0.9202 - val_loss: 0.1322 - val_accuracy: 0.9607\n",
            "Epoch 15/30\n",
            "469/469 [==============================] - 23s 48ms/step - loss: 0.2309 - accuracy: 0.9272 - val_loss: 0.1255 - val_accuracy: 0.9617\n",
            "Epoch 16/30\n",
            "469/469 [==============================] - 23s 48ms/step - loss: 0.2188 - accuracy: 0.9318 - val_loss: 0.1187 - val_accuracy: 0.9639\n",
            "Epoch 17/30\n",
            "469/469 [==============================] - 23s 48ms/step - loss: 0.2060 - accuracy: 0.9355 - val_loss: 0.1144 - val_accuracy: 0.9643\n",
            "Epoch 18/30\n",
            "469/469 [==============================] - 23s 48ms/step - loss: 0.1968 - accuracy: 0.9366 - val_loss: 0.1084 - val_accuracy: 0.9657\n",
            "Epoch 19/30\n",
            "469/469 [==============================] - 23s 48ms/step - loss: 0.1874 - accuracy: 0.9413 - val_loss: 0.1050 - val_accuracy: 0.9655\n",
            "Epoch 20/30\n",
            "469/469 [==============================] - 23s 48ms/step - loss: 0.1800 - accuracy: 0.9437 - val_loss: 0.1016 - val_accuracy: 0.9669\n",
            "Epoch 21/30\n",
            "469/469 [==============================] - 23s 48ms/step - loss: 0.1756 - accuracy: 0.9458 - val_loss: 0.0977 - val_accuracy: 0.9681\n",
            "Epoch 22/30\n",
            "469/469 [==============================] - 23s 48ms/step - loss: 0.1690 - accuracy: 0.9477 - val_loss: 0.0941 - val_accuracy: 0.9689\n",
            "Epoch 23/30\n",
            "469/469 [==============================] - 23s 48ms/step - loss: 0.1609 - accuracy: 0.9492 - val_loss: 0.0908 - val_accuracy: 0.9705\n",
            "Epoch 24/30\n",
            "469/469 [==============================] - 23s 48ms/step - loss: 0.1554 - accuracy: 0.9510 - val_loss: 0.0875 - val_accuracy: 0.9716\n",
            "Epoch 25/30\n",
            "469/469 [==============================] - 23s 48ms/step - loss: 0.1504 - accuracy: 0.9524 - val_loss: 0.0852 - val_accuracy: 0.9731\n",
            "Epoch 26/30\n",
            "469/469 [==============================] - 23s 48ms/step - loss: 0.1471 - accuracy: 0.9543 - val_loss: 0.0837 - val_accuracy: 0.9728\n",
            "Epoch 27/30\n",
            "469/469 [==============================] - 23s 49ms/step - loss: 0.1447 - accuracy: 0.9543 - val_loss: 0.0802 - val_accuracy: 0.9735\n",
            "Epoch 28/30\n",
            "469/469 [==============================] - 23s 48ms/step - loss: 0.1387 - accuracy: 0.9567 - val_loss: 0.0790 - val_accuracy: 0.9740\n",
            "Epoch 29/30\n",
            "469/469 [==============================] - 23s 48ms/step - loss: 0.1364 - accuracy: 0.9568 - val_loss: 0.0767 - val_accuracy: 0.9747\n",
            "Epoch 30/30\n",
            "469/469 [==============================] - 23s 48ms/step - loss: 0.1318 - accuracy: 0.9590 - val_loss: 0.0745 - val_accuracy: 0.9756\n",
            "Test loss: 0.07446660846471786\n",
            "Test accuracy: 0.975600004196167\n"
          ],
          "name": "stdout"
        }
      ]
    },
    {
      "cell_type": "code",
      "metadata": {
        "id": "dWj-_YxAHBq2",
        "colab_type": "code",
        "colab": {}
      },
      "source": [
        "model.save('model_mnist.h5')"
      ],
      "execution_count": 0,
      "outputs": []
    }
  ]
}